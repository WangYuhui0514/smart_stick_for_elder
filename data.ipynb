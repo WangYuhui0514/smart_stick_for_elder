{
 "cells": [
  {
   "cell_type": "code",
   "execution_count": 2,
   "metadata": {},
   "outputs": [
    {
     "name": "stderr",
     "output_type": "stream",
     "text": [
      "/var/folders/xn/_488q431041cxbdk0wvy96x40000gn/T/ipykernel_21531/562725165.py:10: FutureWarning: 'T' is deprecated and will be removed in a future version, please use 'min' instead.\n",
      "  date_range = pd.date_range(start=start_date, end=end_date, freq='T')\n"
     ]
    }
   ],
   "source": [
    "import pandas as pd\n",
    "import numpy as np\n",
    "from datetime import datetime, timedelta\n",
    "\n",
    "# Define the date range for the simulated heart rate data\n",
    "start_date = datetime(2024, 10, 15)\n",
    "end_date = datetime(2024, 10, 31)\n",
    "\n",
    "# Generate a date range for every minute within the specified period\n",
    "date_range = pd.date_range(start=start_date, end=end_date, freq='T')\n",
    "\n",
    "# Simulate heart rate values with random fluctuations\n",
    "# Base heart rate around 80 with some noise\n",
    "np.random.seed(0)  # For reproducibility\n",
    "heart_rate_values = 80 + np.random.normal(0, 5, len(date_range))\n",
    "\n",
    "# Introduce higher heart rates to simulate illness on certain days\n",
    "illness_dates = ['2024-10-18', '2024-10-24', '2024-10-30']\n",
    "for date in illness_dates:\n",
    "    mask = (date_range.date == datetime.strptime(date, \"%Y-%m-%d\").date())\n",
    "    heart_rate_values[mask] += np.random.normal(15, 5, mask.sum())  # Elevated heart rate due to \"illness\"\n",
    "\n",
    "# Create a DataFrame with the simulated data\n",
    "simulated_heart_rate_data = pd.DataFrame({\n",
    "    'DateTime': date_range,\n",
    "    'HeartRate': heart_rate_values\n",
    "})\n",
    "\n",
    "# Display the first few rows of the simulated data\n",
    "simulated_heart_rate_data.head()\n",
    "\n",
    "# Saving the simulated data to a CSV file for user download\n",
    "simulated_heart_rate_data.to_csv('heart_rate_data.csv', index=False)"
   ]
  },
  {
   "cell_type": "code",
   "execution_count": 2,
   "metadata": {},
   "outputs": [
    {
     "name": "stderr",
     "output_type": "stream",
     "text": [
      "/var/folders/xn/_488q431041cxbdk0wvy96x40000gn/T/ipykernel_24329/2157475337.py:9: UserWarning: Could not infer format, so each element will be parsed individually, falling back to `dateutil`. To ensure parsing is consistent and as-expected, please specify a format.\n",
      "  heart_rate_data['Time'] = pd.to_datetime(heart_rate_data['Time'])\n"
     ]
    }
   ],
   "source": [
    "import pandas as pd\n",
    "import numpy as np\n",
    "\n",
    "# Load the heart rate data\n",
    "file_path = \"heart_rate_data.csv\"\n",
    "heart_rate_data = pd.read_csv(file_path)\n",
    "\n",
    "# Convert 'Time' to datetime format if needed\n",
    "heart_rate_data['Time'] = pd.to_datetime(heart_rate_data['Time'])\n",
    "\n",
    "# Set random seed for reproducibility\n",
    "np.random.seed(42)\n",
    "\n",
    "# Generate 'steps' column with mostly 0s, but some random steps for other minutes\n",
    "heart_rate_data['steps'] = np.where(\n",
    "    heart_rate_data['Time'].dt.day.isin([18, 24, 30]),  # For specific days, set fewer steps\n",
    "    np.random.randint(0, 3, size=len(heart_rate_data)),  # Minimal steps for these days\n",
    "    np.random.choice([0, 0, 0, 5, 10, 15, 20], size=len(heart_rate_data), p=[0.6, 0.2, 0.1, 0.05, 0.03, 0.01, 0.01])\n",
    ")\n",
    "\n",
    "# Generate 'force' column with values in 0-1500 range, with higher values on specific days\n",
    "heart_rate_data['force'] = np.where(\n",
    "    heart_rate_data['Time'].dt.day.isin([18, 24, 30]),  # For specific days, set higher force\n",
    "    np.random.randint(500, 1500, size=len(heart_rate_data)),\n",
    "    np.random.choice([0, 0, 0, 100, 200, 300, 400], size=len(heart_rate_data), p=[0.5, 0.2, 0.1, 0.1, 0.05, 0.03, 0.02])\n",
    ")\n",
    "\n",
    "# Save the modified data back\n",
    "heart_rate_data.to_csv(\"data.csv\", index=False)"
   ]
  },
  {
   "cell_type": "code",
   "execution_count": 7,
   "metadata": {},
   "outputs": [
    {
     "name": "stderr",
     "output_type": "stream",
     "text": [
      "/var/folders/xn/_488q431041cxbdk0wvy96x40000gn/T/ipykernel_24921/2909808489.py:9: UserWarning: Could not infer format, so each element will be parsed individually, falling back to `dateutil`. To ensure parsing is consistent and as-expected, please specify a format.\n",
      "  heart_rate_data['Time'] = pd.to_datetime(heart_rate_data['Time'])\n"
     ]
    }
   ],
   "source": [
    "import pandas as pd\n",
    "import numpy as np\n",
    "\n",
    "# Load the heart rate data\n",
    "file_path = \"heart_rate_data.csv\"\n",
    "heart_rate_data = pd.read_csv(file_path)\n",
    "\n",
    "# Convert 'Time' to datetime format if needed\n",
    "heart_rate_data['Time'] = pd.to_datetime(heart_rate_data['Time'])\n",
    "\n",
    "# Set random seed for reproducibility\n",
    "np.random.seed(42)\n",
    "\n",
    "# Define a function to generate steps with specific conditions for certain days\n",
    "def generate_steps(time):\n",
    "    if 23 <= time.hour or time.hour < 5:  # From 11 PM to 5 AM\n",
    "        return 0\n",
    "    elif time.day in [18, 24, 30]:  # Special days with fewer steps\n",
    "        return np.random.choice(\n",
    "            [0, np.random.randint(1, 21)],  # Minimal steps on these days\n",
    "            p=[0.5, 0.5]\n",
    "        )\n",
    "    else:\n",
    "        return np.random.choice(\n",
    "            [0, np.random.randint(1, 20), np.random.randint(21, 51), np.random.randint(51, 71)],\n",
    "            p=[0.5, 0.4, 0.05, 0.05]\n",
    "        )\n",
    "\n",
    "# Define a function to generate force with specific conditions for certain days\n",
    "def generate_force(time):\n",
    "    if 23 <= time.hour or time.hour < 5:  # From 11 PM to 5 AM\n",
    "        return 0\n",
    "    elif time.day in [18, 24, 30]:  # Special days with higher force\n",
    "        return np.random.choice(\n",
    "            [np.random.randint(800, 1201), np.random.randint(1201, 1501)],  # Higher pressure on these days\n",
    "            p=[0.4, 0.6]\n",
    "        )\n",
    "    else:\n",
    "        return np.random.choice(\n",
    "            [0, np.random.randint(200, 801), np.random.randint(801, 1201), np.random.randint(1201, 1501)],\n",
    "            p=[0.05, 0.65, 0.2, 0.1]\n",
    "        )\n",
    "\n",
    "# Apply the functions to generate 'steps' and 'force' columns\n",
    "heart_rate_data['steps'] = heart_rate_data['Time'].apply(generate_steps)\n",
    "heart_rate_data['force'] = heart_rate_data['Time'].apply(generate_force)\n",
    "\n",
    "# Save the modified data back\n",
    "heart_rate_data.to_csv(\"data.csv\", index=False)"
   ]
  }
 ],
 "metadata": {
  "kernelspec": {
   "display_name": "streamlitenv",
   "language": "python",
   "name": "python3"
  },
  "language_info": {
   "codemirror_mode": {
    "name": "ipython",
    "version": 3
   },
   "file_extension": ".py",
   "mimetype": "text/x-python",
   "name": "python",
   "nbconvert_exporter": "python",
   "pygments_lexer": "ipython3",
   "version": "3.11.10"
  }
 },
 "nbformat": 4,
 "nbformat_minor": 2
}
